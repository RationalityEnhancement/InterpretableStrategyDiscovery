{
 "cells": [
  {
   "cell_type": "code",
   "execution_count": 15,
   "metadata": {},
   "outputs": [],
   "source": [
    "import json\n",
    "import os\n",
    "import argparse\n",
    "import pickle\n",
    "import numpy as np\n",
    "import matplotlib.pyplot as plt\n",
    "import pandas as pd\n",
    "import copy\n",
    "from hyperparams import STRATEGY\n",
    "from PLP.DSL import *\n",
    "from strategy_demonstrations import make_modified_env\n",
    "from decision_tree_imitation_learning import solve_mouselab\n",
    "from scipy import stats\n",
    "from datetime import datetime\n",
    "\n",
    "import read_csv_to_dataframe as ecf\n",
    "import experiment_participant_analysis as epa\n",
    "from importlib import reload\n",
    "\n",
    "pd.set_option('display.max_rows', 181)\n",
    "pd.set_option('display.max_columns', 80)\n",
    "pd.set_option('display.max_colwidth', 60)"
   ]
  },
  {
   "cell_type": "markdown",
   "metadata": {},
   "source": [
    "# Import data (dataclip)"
   ]
  },
  {
   "cell_type": "code",
   "execution_count": 23,
   "metadata": {},
   "outputs": [],
   "source": [
    "# import data as csv\n",
    "exp_version = '1'\n",
    "dataclip = pd.read_csv('../data/dataclip.csv')\n"
   ]
  },
  {
   "cell_type": "code",
   "execution_count": 24,
   "metadata": {},
   "outputs": [
    {
     "name": "stdout",
     "output_type": "stream",
     "text": [
      "Aborted Experiment: 0 testing trials\n",
      "Aborted Experiment: 0 testing trials\n"
     ]
    }
   ],
   "source": [
    "#set up dataframe\n",
    "reload(ecf)\n",
    "dataframe1 = ecf.makeDataframe(dataclip, ecf.getParticipantInfoExp1)\n",
    "dataframe1 = dataframe1.sort_values(by=['condition'], ascending=True)\n",
    "dataframe1.reset_index(inplace = True, drop=True)"
   ]
  },
  {
   "cell_type": "markdown",
   "metadata": {},
   "source": [
    "# Anonymize and store (dataframe_raw)"
   ]
  },
  {
   "cell_type": "code",
   "execution_count": 26,
   "metadata": {},
   "outputs": [],
   "source": [
    "data = dataframe1.drop(columns=['WorkerId', 'hitId', 'assignmentId','datastring'])\n",
    "data.apply(lambda x: (json.dumps(a) for a in x) if x.name in 'testingTrials' else x).to_csv('../data/dataframe_raw.csv', index_label='pid')\n",
    "\n"
   ]
  },
  {
   "cell_type": "markdown",
   "metadata": {},
   "source": [
    "# Calculate Click Agreement"
   ]
  },
  {
   "cell_type": "code",
   "execution_count": 27,
   "metadata": {},
   "outputs": [],
   "source": [
    "# define logic formula of strategy\n",
    "exp_version = '1'\n",
    "plp_tree = 'lambda st, act : ((among(st, act, lambda st, act:  not(is_leaf(st, act)) ,  lambda st, act, lst: has_best_path(st, act, lst) ) and among(st, act, lambda st, act:  not(is_max_in_branch(st, act))  and  not(is_observed(st, act)) ))) or ((not (among(st, act, lambda st, act:  not(is_leaf(st, act)) ,  lambda st, act, lst: has_best_path(st, act, lst) )) and among(st, act, lambda st, act:  is_max_in_branch(st, act)  and  not(is_observed(st, act)) )))'\n",
    "\n",
    "# read raw file\n",
    "dataframe2 = pd.read_csv('../data/dataframe_raw.csv')\n",
    "dataframe2 = dataframe2.apply(lambda x: (json.loads(a) for a in x) if x.name in 'testingTrials' else x)\n",
    "\n",
    "if(False):\n",
    "    # compute\n",
    "    pas = epa.get_agreement_sample(dataframe2.testingTrials, plp_tree)\n",
    "    dataframe2['pa_mean'] = pas['click_agreement_means_sample']\n",
    "    dataframe2['pa_complete'] = pas['click_agreement_ratios_sample']\n",
    "    dataframe2['pa_et'] = pas['mean_run_lengths_sample']\n",
    "else:\n",
    "    # from memory\n",
    "    pas = pd.read_csv('../data/dataframe_complete.csv')\n",
    "    dataframe2['pa_mean'] = pas['pa_mean']\n",
    "    dataframe2['pa_complete'] = pas['pa_complete']\n",
    "    dataframe2['pa_et'] = pas['pa_et']"
   ]
  },
  {
   "cell_type": "markdown",
   "metadata": {},
   "source": [
    "# Anonymize and store (dataframe_complete)"
   ]
  },
  {
   "cell_type": "code",
   "execution_count": 28,
   "metadata": {},
   "outputs": [],
   "source": [
    "data = dataframe2.drop(columns=['testingTrials'])\n",
    "data.to_csv('../data/dataframe_complete.csv', index=False)"
   ]
  },
  {
   "cell_type": "code",
   "execution_count": null,
   "metadata": {},
   "outputs": [],
   "source": []
  }
 ],
 "metadata": {
  "kernelspec": {
   "display_name": "Python 3",
   "language": "python",
   "name": "python3"
  },
  "language_info": {
   "codemirror_mode": {
    "name": "ipython",
    "version": 3
   },
   "file_extension": ".py",
   "mimetype": "text/x-python",
   "name": "python",
   "nbconvert_exporter": "python",
   "pygments_lexer": "ipython3",
   "version": "3.7.4"
  }
 },
 "nbformat": 4,
 "nbformat_minor": 2
}
