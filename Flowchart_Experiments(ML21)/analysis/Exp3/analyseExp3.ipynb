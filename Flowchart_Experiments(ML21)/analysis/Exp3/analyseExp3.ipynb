{
 "cells": [
  {
   "cell_type": "code",
   "execution_count": 1,
   "metadata": {},
   "outputs": [],
   "source": [
    "import json\n",
    "import os\n",
    "import argparse\n",
    "import pickle\n",
    "import numpy as np\n",
    "import seaborn as sns\n",
    "import matplotlib.pyplot as plt\n",
    "import pandas as pd\n",
    "import copy\n",
    "from hyperparams import STRATEGY\n",
    "from PLP.DSL import *\n",
    "from strategy_demonstrations import make_modified_env\n",
    "from decision_tree_imitation_learning import solve_mouselab\n",
    "from scipy import stats\n",
    "from datetime import datetime\n",
    "import read_dataclips_to_dataframe as edf\n",
    "import experiment_participant_analysis as epa\n",
    "from importlib import reload"
   ]
  },
  {
   "cell_type": "code",
   "execution_count": 11,
   "metadata": {},
   "outputs": [
    {
     "data": {
      "text/plain": [
       "<module 'matplotlib.pyplot' from '/Applications/anaconda3/lib/python3.7/site-packages/matplotlib/pyplot.py'>"
      ]
     },
     "execution_count": 11,
     "metadata": {},
     "output_type": "execute_result"
    }
   ],
   "source": [
    "reload(edf)\n",
    "reload(epa)\n",
    "reload(plt)"
   ]
  },
  {
   "cell_type": "code",
   "execution_count": 12,
   "metadata": {},
   "outputs": [],
   "source": [
    "COND0 = 0\n",
    "COND1 = 1\n",
    "\n",
    "pd.set_option('display.max_rows', 181)\n",
    "pd.set_option('display.max_columns', 80)\n",
    "pd.set_option('display.max_colwidth', 60)"
   ]
  },
  {
   "cell_type": "code",
   "execution_count": 30,
   "metadata": {},
   "outputs": [],
   "source": [
    "# import\n",
    "with open('data/dataclipsExp3.json', 'r') as handle:\n",
    "    data = json.load(handle)\n",
    "    \n",
    "df_valid_all = pd.read_csv('csv/Exp3/df_valid_all.csv')\n",
    "df_valid = pd.read_csv('csv/Exp3/df_valid.csv')"
   ]
  },
  {
   "cell_type": "code",
   "execution_count": null,
   "metadata": {},
   "outputs": [],
   "source": [
    "#print(edf.getMapping(data_dict, 45))\n",
    "#edf.getParticipantInfoExp3(data_dict, 72)"
   ]
  },
  {
   "cell_type": "code",
   "execution_count": 14,
   "metadata": {},
   "outputs": [
    {
     "name": "stdout",
     "output_type": "stream",
     "text": [
      "Aborted Experiment: 0 testing trials\n",
      "Aborted Experiment: 0 testing trials\n",
      "Aborted Experiment: 0 testing trials\n",
      "Aborted Experiment: 0 testing trials\n",
      "Aborted Experiment: 0 testing trials\n",
      "Aborted Experiment: 2 testing trials\n",
      "Aborted Experiment: 0 testing trials\n",
      "Aborted Experiment: 0 testing trials\n",
      "Aborted Experiment: 0 testing trials\n",
      "Aborted Experiment: 0 testing trials\n",
      "Aborted Experiment: 0 testing trials\n",
      "Aborted Experiment: 0 testing trials\n",
      "Aborted Experiment: 9 testing trials\n",
      "Aborted Experiment: 0 testing trials\n",
      "Aborted Experiment: 6 testing trials\n",
      "Aborted Experiment: 3 testing trials\n",
      "Aborted Experiment: 0 testing trials\n",
      "Aborted Experiment: 0 testing trials\n",
      "Aborted Experiment: 0 testing trials\n",
      "Aborted Experiment: 0 testing trials\n",
      "Aborted Experiment: 0 testing trials\n",
      "Aborted Experiment: 0 testing trials\n",
      "Aborted Experiment: 0 testing trials\n",
      "Aborted Experiment: 0 testing trials\n",
      "Aborted Experiment: 0 testing trials\n",
      "Aborted Experiment: 0 testing trials\n",
      "Aborted Experiment: 7 testing trials\n",
      "Aborted Experiment: 0 testing trials\n",
      "Aborted Experiment: 0 testing trials\n",
      "Aborted Experiment: 0 testing trials\n",
      "Aborted Experiment: 0 testing trials\n",
      "Aborted Experiment: 0 testing trials\n",
      "Aborted Experiment: 0 testing trials\n",
      "Aborted Experiment: 0 testing trials\n",
      "Aborted Experiment: 6 testing trials\n",
      "Aborted Experiment: 0 testing trials\n",
      "Aborted Experiment: 1 testing trials\n",
      "Aborted Experiment: 0 testing trials\n",
      "Aborted Experiment: 8 testing trials\n",
      "Aborted Experiment: 0 testing trials\n",
      "Aborted Experiment: 0 testing trials\n",
      "Aborted Experiment: 0 testing trials\n",
      "Aborted Experiment: 0 testing trials\n",
      "Aborted Experiment: 0 testing trials\n",
      "Aborted Experiment: 0 testing trials\n",
      "Aborted Experiment: 0 testing trials\n",
      "Aborted Experiment: 0 testing trials\n",
      "Aborted Experiment: 0 testing trials\n",
      "Aborted Experiment: 0 testing trials\n",
      "Aborted Experiment: 0 testing trials\n",
      "Aborted Experiment: 0 testing trials\n",
      "Aborted Experiment: 0 testing trials\n",
      "Aborted Experiment: 0 testing trials\n",
      "Aborted Experiment: 0 testing trials\n",
      "Aborted Experiment: 0 testing trials\n",
      "Aborted Experiment: 9 testing trials\n",
      "Aborted Experiment: 0 testing trials\n",
      "Aborted Experiment: 0 testing trials\n",
      "Aborted Experiment: 0 testing trials\n",
      "Aborted Experiment: 0 testing trials\n",
      "Aborted Experiment: 0 testing trials\n",
      "Aborted Experiment: 0 testing trials\n",
      "Aborted Experiment: 1 testing trials\n",
      "Aborted Experiment: 0 testing trials\n",
      "Aborted Experiment: 0 testing trials\n",
      "Aborted Experiment: 0 testing trials\n",
      "Aborted Experiment: 0 testing trials\n",
      "Aborted Experiment: 0 testing trials\n",
      "Aborted Experiment: 0 testing trials\n",
      "Aborted Experiment: 0 testing trials\n",
      "Aborted Experiment: 0 testing trials\n",
      "Aborted Experiment: 0 testing trials\n",
      "Aborted Experiment: 6 testing trials\n",
      "Aborted Experiment: 1 testing trials\n",
      "Aborted Experiment: 0 testing trials\n",
      "Aborted Experiment: 0 testing trials\n",
      "Aborted Experiment: 0 testing trials\n",
      "Aborted Experiment: 0 testing trials\n",
      "Aborted Experiment: 0 testing trials\n",
      "Aborted Experiment: 0 testing trials\n",
      "Aborted Experiment: 0 testing trials\n",
      "Aborted Experiment: 0 testing trials\n",
      "Aborted Experiment: 0 testing trials\n",
      "Aborted Experiment: 0 testing trials\n",
      "Aborted Experiment: 5 testing trials\n",
      "Aborted Experiment: 0 testing trials\n",
      "Aborted Experiment: 0 testing trials\n",
      "Aborted Experiment: 0 testing trials\n",
      "Aborted Experiment: 0 testing trials\n",
      "Aborted Experiment: 0 testing trials\n",
      "Aborted Experiment: 2 testing trials\n",
      "Aborted Experiment: 1 testing trials\n",
      "Aborted Experiment: 0 testing trials\n",
      "Aborted Experiment: 0 testing trials\n",
      "Aborted Experiment: 0 testing trials\n",
      "Aborted Experiment: 0 testing trials\n",
      "Aborted Experiment: 0 testing trials\n"
     ]
    }
   ],
   "source": [
    "#set up\n",
    "plp_tree = eval('lambda st, act : ((among(st, act, lambda st, act:  not(is_leaf(st, act)) ,  lambda st, act, lst: has_best_path(st, act, lst) ) and among(st, act, lambda st, act:  not(is_max_in_branch(st, act))  and  not(is_observed(st, act)) ))) or ((not (among(st, act, lambda st, act:  not(is_leaf(st, act)) ,  lambda st, act, lst: has_best_path(st, act, lst) )) and among(st, act, lambda st, act:  is_max_in_branch(st, act)  and  not(is_observed(st, act)) )))')\n",
    "data_dict = edf.json2dict(data)\n",
    "dataframe = edf.makeDataframe(data_dict, edf.getParticipantInfoExp3)"
   ]
  },
  {
   "cell_type": "code",
   "execution_count": null,
   "metadata": {},
   "outputs": [],
   "source": [
    "#dataframe[dataframe.WorkerId == '']"
   ]
  },
  {
   "cell_type": "code",
   "execution_count": 15,
   "metadata": {},
   "outputs": [
    {
     "name": "stdout",
     "output_type": "stream",
     "text": [
      "258\n"
     ]
    }
   ],
   "source": [
    "print(len(dataframe))\n",
    "dataframe = dataframe.sort_values(by=['condition'], ascending=True)\n",
    "dataframe.reset_index(inplace = True, drop=True)"
   ]
  },
  {
   "cell_type": "code",
   "execution_count": 8,
   "metadata": {},
   "outputs": [
    {
     "name": "stdout",
     "output_type": "stream",
     "text": [
      "45\n",
      "54\n"
     ]
    }
   ],
   "source": [
    "# calculate dropout ratio:\n",
    "print(len(dataframe[(dataframe.status == 6) & (dataframe.condition ==0)]))\n",
    "print(len(dataframe[(dataframe.status == 6) & (dataframe.condition ==1)]))"
   ]
  },
  {
   "cell_type": "code",
   "execution_count": null,
   "metadata": {},
   "outputs": [],
   "source": [
    "# look into special cases:\n",
    "#dataframe[dataframe.WorkerId == \"A27GK6AHDNFW5Y\"].datastring.tolist()"
   ]
  },
  {
   "cell_type": "code",
   "execution_count": null,
   "metadata": {},
   "outputs": [],
   "source": [
    "# ............................Filter.................................................\n",
    "# .............................................................................\n",
    "# ............................................................................."
   ]
  },
  {
   "cell_type": "code",
   "execution_count": 16,
   "metadata": {},
   "outputs": [],
   "source": [
    "df_valid_all = dataframe[dataframe.status == 4]\n",
    "df_valid_all.reset_index(inplace = True, drop=True)"
   ]
  },
  {
   "cell_type": "code",
   "execution_count": 11,
   "metadata": {},
   "outputs": [],
   "source": [
    "results_info = epa.get_agreement_sample(df_valid_all.testingTrials.tolist(), plp_tree)"
   ]
  },
  {
   "cell_type": "code",
   "execution_count": null,
   "metadata": {},
   "outputs": [],
   "source": [
    "#results_info"
   ]
  },
  {
   "cell_type": "code",
   "execution_count": null,
   "metadata": {},
   "outputs": [],
   "source": [
    "df_valid_all['pair_agreements'] = results_info['click_agreement_ratios_sample']\n",
    "df_valid_all['pair_agreement'] = results_info['click_agreement_means_sample']\n",
    "df_valid_all['EA'] = results_info['mean_run_lengths_sample']"
   ]
  },
  {
   "cell_type": "code",
   "execution_count": 24,
   "metadata": {},
   "outputs": [
    {
     "name": "stdout",
     "output_type": "stream",
     "text": [
      "149\n",
      "119\n"
     ]
    }
   ],
   "source": [
    "# filter dataframe\n",
    "df_valid = df_valid_all[(df_valid_all.attempts_quiz < 4) & (df_valid_all.attempts_quiz2 < 4)]\n",
    "print(len(df_valid_all))\n",
    "print(len(df_valid))\n"
   ]
  },
  {
   "cell_type": "code",
   "execution_count": null,
   "metadata": {},
   "outputs": [],
   "source": [
    "# ............................BONUS.................................................\n",
    "# ..........................................................................................\n",
    "# .........................................................................................."
   ]
  },
  {
   "cell_type": "code",
   "execution_count": null,
   "metadata": {},
   "outputs": [],
   "source": [
    "MAX_BONUS = 6\n",
    "df_valid_all['bonus'] = 0.0\n",
    "\n",
    "for index, row in df_valid_all.iterrows():\n",
    "    if row['condition'] == 0:\n",
    "        bonus = (0.1 * row['numberCorClicks']) - (0.1 * row['numberIncClicks'])\n",
    "    else:\n",
    "        bonus = 0.02 * np.sum(row['scores'])\n",
    "    df_valid_all.at[index, 'bonus'] = min(max(bonus,0), MAX_BONUS)"
   ]
  },
  {
   "cell_type": "code",
   "execution_count": null,
   "metadata": {},
   "outputs": [],
   "source": [
    "# bonus stats:\n",
    "print(np.mean(df_valid_all['bonus']))\n",
    "print(np.min(df_valid_all['bonus']))\n",
    "print(np.max(df_valid_all['bonus']))"
   ]
  },
  {
   "cell_type": "code",
   "execution_count": null,
   "metadata": {},
   "outputs": [],
   "source": [
    "# compute final bonus regarding min wage\n",
    "delta_bonus, wage_ph, new_wage_ph = edf.getDeltaBonus(df_valid_all, 3, 5.5, max_bonus=MAX_BONUS)\n",
    "plt.hist(new_wage_ph[df_valid_all.condition == 1].tolist())\n",
    "np.sum(df_valid_all.bonus + delta_bonus)"
   ]
  },
  {
   "cell_type": "code",
   "execution_count": null,
   "metadata": {},
   "outputs": [],
   "source": [
    "# compute total bonus\n",
    "df_valid_all['delta_bonus'] = delta_bonus.tolist()\n",
    "df_valid_all[\"total_bonus\"] = df_valid_all['bonus'] + df_valid_all['delta_bonus']"
   ]
  },
  {
   "cell_type": "code",
   "execution_count": null,
   "metadata": {},
   "outputs": [],
   "source": [
    "edf.exportBonus(df_valid_all, total_bonus = True)"
   ]
  },
  {
   "cell_type": "code",
   "execution_count": null,
   "metadata": {},
   "outputs": [],
   "source": [
    "# ............................ Results .....................................................\n",
    "# ..........................................................................................\n",
    "# .........................................................................................."
   ]
  },
  {
   "cell_type": "code",
   "execution_count": 2,
   "metadata": {},
   "outputs": [],
   "source": [
    "df_valid_all = pd.read_csv('csv/Exp3/df_valid_all.csv')\n",
    "df_valid = pd.read_csv('csv/Exp3/df_valid.csv')\n",
    "df0 = df_valid[df_valid.condition == 0]\n",
    "df1 = df_valid[df_valid.condition == 1]"
   ]
  },
  {
   "cell_type": "code",
   "execution_count": 5,
   "metadata": {},
   "outputs": [
    {
     "name": "stdout",
     "output_type": "stream",
     "text": [
      "(0.9547252655029297, 0.0005191965028643608)\n",
      "FlignerResult(statistic=10.85555192405656, pvalue=0.0009850000140806015)\n"
     ]
    }
   ],
   "source": [
    "print(stats.shapiro(df_valid.pair_agreement))\n",
    "print(stats.fligner(df0.pair_agreement, df1.pair_agreement))"
   ]
  },
  {
   "cell_type": "code",
   "execution_count": 40,
   "metadata": {},
   "outputs": [
    {
     "name": "stdout",
     "output_type": "stream",
     "text": [
      " -- df1 -- \n",
      "Median: 0.54\n",
      "Mean: 0.5898\n",
      "Std: 0.2444\n",
      "($0.54\\% \\; (M= 0.5898\\%, SD = 0.2444\\%)$)\n",
      "\n",
      " -- df2 -- \n",
      "Median: 0.335\n",
      "Mean: 0.3095\n",
      "Std: 0.1592\n",
      "($0.335\\% \\; (M= 0.3095\\%, SD = 0.1592\\%)$)\n",
      "\n"
     ]
    }
   ],
   "source": [
    "epa.print_statistics(df0, df1, 'pair_agreement')"
   ]
  },
  {
   "cell_type": "code",
   "execution_count": 10,
   "metadata": {},
   "outputs": [
    {
     "name": "stdout",
     "output_type": "stream",
     "text": [
      "(0.9834502339363098, 0.1523924469947815)\n",
      "FlignerResult(statistic=0.04734918614446447, pvalue=0.8277418119699131)\n"
     ]
    }
   ],
   "source": [
    "print(stats.shapiro(df_valid.total_rew_exp))\n",
    "print(stats.fligner(df0.total_rew_exp, df1.total_rew_exp))"
   ]
  },
  {
   "cell_type": "code",
   "execution_count": 41,
   "metadata": {},
   "outputs": [
    {
     "name": "stdout",
     "output_type": "stream",
     "text": [
      " -- df1 -- \n",
      "Median: 62.0\n",
      "Mean: 59.5424\n",
      "Std: 27.4815\n",
      "($62.0\\% \\; (M= 59.5424\\%, SD = 27.4815\\%)$)\n",
      "\n",
      " -- df2 -- \n",
      "Median: 40.0\n",
      "Mean: 41.7167\n",
      "Std: 26.2559\n",
      "($40.0\\% \\; (M= 41.7167\\%, SD = 26.2559\\%)$)\n",
      "\n"
     ]
    }
   ],
   "source": [
    "epa.print_statistics(df0, df1, 'total_rew_exp')"
   ]
  },
  {
   "cell_type": "code",
   "execution_count": 42,
   "metadata": {},
   "outputs": [
    {
     "name": "stdout",
     "output_type": "stream",
     "text": [
      "0.6645230439442659\n",
      "0.4287245444801715\n"
     ]
    }
   ],
   "source": [
    "print(6.2/9.33)\n",
    "print(4.0/9.33)"
   ]
  },
  {
   "cell_type": "code",
   "execution_count": 9,
   "metadata": {},
   "outputs": [
    {
     "name": "stdout",
     "output_type": "stream",
     "text": [
      "0.2542372881355932\n",
      "0.0\n"
     ]
    }
   ],
   "source": [
    "print(len(df0[df0.pair_agreement > 0.8])/len(df0))\n",
    "print(len(df1[df1.pair_agreement > 0.8])/len(df1))"
   ]
  },
  {
   "cell_type": "code",
   "execution_count": null,
   "metadata": {},
   "outputs": [],
   "source": []
  },
  {
   "cell_type": "code",
   "execution_count": null,
   "metadata": {},
   "outputs": [],
   "source": []
  },
  {
   "cell_type": "code",
   "execution_count": 12,
   "metadata": {},
   "outputs": [],
   "source": [
    "# ............................ Stats .....................................................\n",
    "# ..........................................................................................\n",
    "# .........................................................................................."
   ]
  },
  {
   "cell_type": "code",
   "execution_count": 13,
   "metadata": {},
   "outputs": [],
   "source": [
    "#df_valid_all[df_valid_all.condition == 0].qUnd.tolist()\n",
    "#df_valid_all[df_valid_all.condition == 0].qConf.tolist()\n",
    "#df_valid_all[df_valid_all.condition == 0].qNotUnd.tolist()\n",
    "#df_valid_all[df_valid_all.condition == 0].feedback.tolist()"
   ]
  },
  {
   "cell_type": "code",
   "execution_count": 14,
   "metadata": {},
   "outputs": [],
   "source": [
    "#df_valid"
   ]
  },
  {
   "cell_type": "code",
   "execution_count": 15,
   "metadata": {},
   "outputs": [
    {
     "name": "stdout",
     "output_type": "stream",
     "text": [
      "50.66904761904762\n"
     ]
    },
    {
     "data": {
      "text/plain": [
       "(array([ 7.,  9.,  9., 11., 11.,  9., 10.,  6.,  1.,  4.]),\n",
       " array([24.5  , 30.577, 36.653, 42.73 , 48.807, 54.883, 60.96 , 67.037, 73.113, 79.19 , 85.267]),\n",
       " <a list of 10 Patch objects>)"
      ]
     },
     "execution_count": 15,
     "metadata": {},
     "output_type": "execute_result"
    },
    {
     "data": {
      "image/png": "[encoded data removed]",
      "text/plain": [
       "<Figure size 432x288 with 1 Axes>"
      ]
     },
     "metadata": {
      "needs_background": "light"
     },
     "output_type": "display_data"
    }
   ],
   "source": [
    "# calculate mean time \n",
    "tt = [int(a)/60 for a in df_valid_all[df_valid_all.condition == 0]['totalTime'].to_list() if a != '-']\n",
    "print(np.mean(tt))\n",
    "plt.hist(tt)"
   ]
  },
  {
   "cell_type": "code",
   "execution_count": 16,
   "metadata": {},
   "outputs": [
    {
     "data": {
      "text/plain": [
       "114.96779661016951"
      ]
     },
     "execution_count": 16,
     "metadata": {},
     "output_type": "execute_result"
    }
   ],
   "source": [
    "# calculate mean time for mouselba trials:\n",
    "df_valid[df_valid.condition == 0].trialTimeMean.mean()"
   ]
  },
  {
   "cell_type": "code",
   "execution_count": 17,
   "metadata": {},
   "outputs": [
    {
     "name": "stdout",
     "output_type": "stream",
     "text": [
      "33.66442953020134\n",
      "18\n",
      "65\n"
     ]
    },
    {
     "name": "stderr",
     "output_type": "stream",
     "text": [
      "/Applications/anaconda3/lib/python3.7/site-packages/pandas/core/ops/__init__.py:1115: FutureWarning: elementwise comparison failed; returning scalar instead, but in the future will perform elementwise comparison\n",
      "  result = method(y)\n"
     ]
    }
   ],
   "source": [
    "# calculate mean age:\n",
    "# typos\n",
    "age_temp = df_valid_all[df_valid_all.age != '-' ].age.astype(int)\n",
    "\n",
    "print( np.mean( age_temp ) )\n",
    "print( np.min( age_temp ) )\n",
    "print( np.max( age_temp ) )"
   ]
  },
  {
   "cell_type": "code",
   "execution_count": 18,
   "metadata": {},
   "outputs": [
    {
     "name": "stdout",
     "output_type": "stream",
     "text": [
      "62\n"
     ]
    }
   ],
   "source": [
    "# calculate gender:\n",
    "gender_temp = df_valid_all[ df_valid_all.gender != '-'].gender.str.lower().str.contains(\"f\")\n",
    "print(np.sum(gender_temp))"
   ]
  },
  {
   "cell_type": "code",
   "execution_count": 19,
   "metadata": {},
   "outputs": [
    {
     "data": {
      "text/plain": [
       "30"
      ]
     },
     "execution_count": 19,
     "metadata": {},
     "output_type": "execute_result"
    }
   ],
   "source": [
    "#number excluded \n",
    "len(df_valid_all) - len(df_valid)"
   ]
  },
  {
   "cell_type": "code",
   "execution_count": 20,
   "metadata": {},
   "outputs": [
    {
     "data": {
      "text/plain": [
       "0.20134228187919467"
      ]
     },
     "execution_count": 20,
     "metadata": {},
     "output_type": "execute_result"
    }
   ],
   "source": [
    "1 - len(df_valid)/len(df_valid_all)"
   ]
  },
  {
   "cell_type": "code",
   "execution_count": 22,
   "metadata": {},
   "outputs": [
    {
     "name": "stdout",
     "output_type": "stream",
     "text": [
      "59\n",
      "60\n"
     ]
    }
   ],
   "source": [
    "#number valid\n",
    "print(len(df_valid[ df_valid.condition == 0]))\n",
    "print(len(df_valid[ df_valid.condition == 1]))"
   ]
  },
  {
   "cell_type": "code",
   "execution_count": 23,
   "metadata": {},
   "outputs": [
    {
     "name": "stdout",
     "output_type": "stream",
     "text": [
      "1\n",
      "10\n",
      "1.9597315436241611\n"
     ]
    }
   ],
   "source": [
    "# stats attempts\n",
    "print(df_valid_all.attempts_quiz2.min())\n",
    "print(df_valid_all.attempts_quiz2.max())\n",
    "print(df_valid_all.attempts_quiz2.mean())"
   ]
  },
  {
   "cell_type": "code",
   "execution_count": 24,
   "metadata": {},
   "outputs": [
    {
     "data": {
      "text/plain": [
       "4.0"
      ]
     },
     "execution_count": 24,
     "metadata": {},
     "output_type": "execute_result"
    }
   ],
   "source": [
    "np.mean(df_valid_all.attempts_quiz + df_valid_all.attempts_quiz2)"
   ]
  },
  {
   "cell_type": "code",
   "execution_count": 25,
   "metadata": {},
   "outputs": [
    {
     "data": {
      "text/plain": [
       "genEdu\n",
       "College degree          123\n",
       "High school graduate     26\n",
       "Name: WorkerId, dtype: int64"
      ]
     },
     "execution_count": 25,
     "metadata": {},
     "output_type": "execute_result"
    }
   ],
   "source": [
    "# stats genEdu\n",
    "df_valid_all.groupby('genEdu')['WorkerId'].nunique()"
   ]
  },
  {
   "cell_type": "code",
   "execution_count": 26,
   "metadata": {},
   "outputs": [
    {
     "data": {
      "text/plain": [
       "comEdu\n",
       "No     67\n",
       "Yes    82\n",
       "Name: WorkerId, dtype: int64"
      ]
     },
     "execution_count": 26,
     "metadata": {},
     "output_type": "execute_result"
    }
   ],
   "source": [
    "# stats comEdu\n",
    "df_valid_all.groupby('comEdu')['WorkerId'].nunique()"
   ]
  },
  {
   "cell_type": "code",
   "execution_count": null,
   "metadata": {},
   "outputs": [],
   "source": []
  },
  {
   "cell_type": "code",
   "execution_count": null,
   "metadata": {},
   "outputs": [],
   "source": []
  },
  {
   "cell_type": "code",
   "execution_count": 27,
   "metadata": {},
   "outputs": [],
   "source": [
    "# ............................ Plots .....................................................\n",
    "# ..........................................................................................\n",
    "# .........................................................................................."
   ]
  },
  {
   "cell_type": "code",
   "execution_count": 28,
   "metadata": {},
   "outputs": [
    {
     "name": "stdout",
     "output_type": "stream",
     "text": [
      "[0.1, 0.30000000000000004, 0.5, 0.7, 0.9]\n"
     ]
    },
    {
     "data": {
      "text/plain": [
       "Text(0, 0.5, 'Proportion of participants')"
      ]
     },
     "execution_count": 28,
     "metadata": {},
     "output_type": "execute_result"
    },
    {
     "data": {
      "image/png": "[encoded data removed]",
      "text/plain": [
       "<Figure size 432x288 with 1 Axes>"
      ]
     },
     "metadata": {
      "needs_background": "light"
     },
     "output_type": "display_data"
    }
   ],
   "source": [
    "epa.create_barplot(df0, df1, 'pair_agreement', [0 , 0.2, 0.4, 0.6, 0.8, 1])\n",
    "plt.legend()\n",
    "plt.xticks([0., 0.2, 0.4,  0.6,  0.8,  1], labels=['0%', '20%','40%', '60%', '80%','100%'])\n",
    "plt.title('Click agreement per condition')\n",
    "plt.xlabel('Click agreement')\n",
    "plt.ylabel('Proportion of participants')\n",
    "#plt.savefig('plots/exp3_ca.png', dpi=300)"
   ]
  },
  {
   "cell_type": "code",
   "execution_count": null,
   "metadata": {},
   "outputs": [],
   "source": []
  },
  {
   "cell_type": "code",
   "execution_count": 29,
   "metadata": {},
   "outputs": [],
   "source": [
    "#max(df_valid.mean_rew) #-13.5, 12.7 "
   ]
  },
  {
   "cell_type": "code",
   "execution_count": 30,
   "metadata": {},
   "outputs": [
    {
     "name": "stdout",
     "output_type": "stream",
     "text": [
      "[-12.0, -6.0, 0.0, 6.0, 12.0]\n"
     ]
    },
    {
     "data": {
      "text/plain": [
       "Text(0, 0.5, 'Proportion of participants')"
      ]
     },
     "execution_count": 30,
     "metadata": {},
     "output_type": "execute_result"
    },
    {
     "data": {
      "image/png": "[encoded data removed]",
      "text/plain": [
       "<Figure size 432x288 with 1 Axes>"
      ]
     },
     "metadata": {
      "needs_background": "light"
     },
     "output_type": "display_data"
    }
   ],
   "source": [
    "epa.create_barplot(df0, df1, 'mean_rew', [-15., -9.,   -3,  3,  9,  15])\n",
    "plt.legend()\n",
    "plt.title('Mean score per condition')\n",
    "plt.xlabel('Mean score')\n",
    "plt.ylabel('Proportion of participants')\n",
    "#plt.savefig('plots/exp3_mr.png', dpi=300)"
   ]
  },
  {
   "cell_type": "code",
   "execution_count": null,
   "metadata": {},
   "outputs": [],
   "source": []
  },
  {
   "cell_type": "code",
   "execution_count": 31,
   "metadata": {},
   "outputs": [],
   "source": [
    "#min(df_valid.mean_rew_exp) #-3, 11 "
   ]
  },
  {
   "cell_type": "code",
   "execution_count": 32,
   "metadata": {},
   "outputs": [
    {
     "name": "stdout",
     "output_type": "stream",
     "text": [
      "[-1.5, 1.5, 4.5, 7.5, 10.5]\n"
     ]
    },
    {
     "data": {
      "image/png": "[encoded data removed]",
      "text/plain": [
       "<Figure size 432x288 with 1 Axes>"
      ]
     },
     "metadata": {
      "needs_background": "light"
     },
     "output_type": "display_data"
    }
   ],
   "source": [
    "epa.create_barplot(df0, df1, 'mean_rew_exp', [-3, 0,   3,  6,  9,  12])\n",
    "plt.legend()\n",
    "plt.title('Mean expected score per condition')\n",
    "plt.xlabel('Mean expected score')\n",
    "plt.ylabel('Proportion of participants')\n",
    "plt.savefig('plots/exp3_emr.png', dpi=300)"
   ]
  },
  {
   "cell_type": "code",
   "execution_count": null,
   "metadata": {},
   "outputs": [],
   "source": []
  },
  {
   "cell_type": "code",
   "execution_count": 33,
   "metadata": {},
   "outputs": [],
   "source": [
    "# ............................ Stroring .....................................................\n",
    "# ..........................................................................................\n",
    "# .........................................................................................."
   ]
  },
  {
   "cell_type": "code",
   "execution_count": 34,
   "metadata": {},
   "outputs": [],
   "source": [
    "#df_valid_all.to_csv('csv/Exp3/df_valid_all.csv')\n",
    "#df_valid.to_csv('csv/Exp3/df_valid.csv')"
   ]
  },
  {
   "cell_type": "code",
   "execution_count": null,
   "metadata": {},
   "outputs": [],
   "source": []
  }
 ],
 "metadata": {
  "kernelspec": {
   "display_name": "Python 3",
   "language": "python",
   "name": "python3"
  },
  "language_info": {
   "codemirror_mode": {
    "name": "ipython",
    "version": 3
   },
   "file_extension": ".py",
   "mimetype": "text/x-python",
   "name": "python",
   "nbconvert_exporter": "python",
   "pygments_lexer": "ipython3",
   "version": "3.7.4"
  }
 },
 "nbformat": 4,
 "nbformat_minor": 2
}
