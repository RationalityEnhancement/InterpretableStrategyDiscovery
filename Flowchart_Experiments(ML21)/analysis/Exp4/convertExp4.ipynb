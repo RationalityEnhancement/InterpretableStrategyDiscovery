{
 "cells": [
  {
   "cell_type": "code",
   "execution_count": 1,
   "metadata": {},
   "outputs": [],
   "source": [
    "import json\n",
    "import os\n",
    "import argparse\n",
    "import pickle\n",
    "import numpy as np\n",
    "import seaborn as sns\n",
    "import matplotlib.pyplot as plt\n",
    "import pandas as pd\n",
    "import copy\n",
    "from hyperparams import STRATEGY\n",
    "from PLP.DSL import *\n",
    "from strategy_demonstrations import make_modified_env\n",
    "from decision_tree_imitation_learning import solve_mouselab\n",
    "from scipy import stats\n",
    "from datetime import datetime\n",
    "\n",
    "import read_csv_to_dataframe as ecf\n",
    "import experiment_participant_analysis as epa\n",
    "from importlib import reload\n",
    "\n",
    "pd.set_option('display.max_rows', 181)\n",
    "pd.set_option('display.max_columns', 80)\n",
    "pd.set_option('display.max_colwidth', 60)"
   ]
  },
  {
   "cell_type": "code",
   "execution_count": 2,
   "metadata": {},
   "outputs": [],
   "source": [
    "# import data as csv\n",
    "exp_version = '4A'\n",
    "dataclip = pd.read_csv('data/Exp'+exp_version+'/dataclip.csv')\n"
   ]
  },
  {
   "cell_type": "code",
   "execution_count": 4,
   "metadata": {},
   "outputs": [
    {
     "name": "stderr",
     "output_type": "stream",
     "text": [
      "/Applications/anaconda3/lib/python3.7/site-packages/numpy/core/fromnumeric.py:3257: RuntimeWarning: Mean of empty slice.\n",
      "  out=out, **kwargs)\n",
      "/Applications/anaconda3/lib/python3.7/site-packages/numpy/core/_methods.py:161: RuntimeWarning: invalid value encountered in double_scalars\n",
      "  ret = ret.dtype.type(ret / rcount)\n"
     ]
    }
   ],
   "source": [
    "#set up\n",
    "reload(ecf)\n",
    "dataframe1 = ecf.makeDataframe(dataclip, ecf.getParticipantInfoExp4A)\n",
    "dataframe1 = dataframe1.sort_values(by=['condition'], ascending=True)\n",
    "dataframe1.reset_index(inplace = True, drop=True)"
   ]
  },
  {
   "cell_type": "code",
   "execution_count": 6,
   "metadata": {},
   "outputs": [],
   "source": [
    "# ............................ ANONYMIZE AND Stroring .....................................................\n",
    "# ..........................................................................................\n",
    "# .........................................................................................."
   ]
  },
  {
   "cell_type": "code",
   "execution_count": 7,
   "metadata": {},
   "outputs": [],
   "source": [
    "data = dataframe1.drop(columns=['WorkerId', 'hitId', 'assignmentId','datastring'])\n",
    "data.apply(lambda x: (json.dumps(a) for a in x) if x.name in 'testingTrials' else x).to_csv('data/Exp'+exp_version+'/dataframe_raw.csv', index_label='pid')\n",
    "\n"
   ]
  },
  {
   "cell_type": "code",
   "execution_count": 8,
   "metadata": {},
   "outputs": [],
   "source": [
    "# ............................ CALCULATE PAIR AGREEMENT .....................................................\n",
    "# ..........................................................................................\n",
    "# .........................................................................................."
   ]
  },
  {
   "cell_type": "code",
   "execution_count": 5,
   "metadata": {},
   "outputs": [],
   "source": [
    "exp_version = '4B'\n",
    "\n",
    "if exp_version == '4A':\n",
    "    plp_tree = 'lambda st, act : ((among(st, act, lambda st, act:  not(is_observed(st, act)) ,  lambda st, act, lst: has_largest_depth(st, act, lst) ) and not (is_previous_observed_max(st, act))))'\n",
    "elif exp_version == '4B':\n",
    "    plp_tree = 'lambda st, act : ((among(st, act, lambda st, act:  is_root(st, act)  and  not(is_observed(st, act)) )))'\n",
    "elif exp_version == '4C':\n",
    "    plp_tree =   'lambda st, act : ((among(st, act, lambda st, act:  not(is_leaf(st, act)) ,  lambda st, act, lst: has_best_path(st, act, lst) ) and among(st, act, lambda st, act:  not(is_max_in_branch(st, act))  and  not(is_observed(st, act)) ))) or ((not (among(st, act, lambda st, act:  not(is_leaf(st, act)) ,  lambda st, act, lst: has_best_path(st, act, lst) )) and among(st, act, lambda st, act:  is_max_in_branch(st, act)  and  not(is_observed(st, act)) )))'\n",
    "\n",
    "dataframe2 = pd.read_csv('data/Exp'+exp_version+'/dataframe_raw.csv')\n",
    "dataframe2 = dataframe2.apply(lambda x: (json.loads(a) for a in x) if x.name in 'testingTrials' else x)\n",
    "\n",
    "if(False):\n",
    "    pas = epa.get_agreement_sample(dataframe2.testingTrials, plp_tree)\n",
    "    dataframe2['pa_mean'] = pas['click_agreement_means_sample']\n",
    "    dataframe2['pa_complete'] = pas['click_agreement_ratios_sample']\n",
    "    dataframe2['pa_et'] = pas['mean_run_lengths_sample']\n",
    "else:\n",
    "    pas = pd.read_csv('data/Exp'+exp_version+'/dataframe_complete.csv')\n",
    "    dataframe2['pa_mean'] = pas['pa_mean']\n",
    "    dataframe2['pa_complete'] = pas['pa_complete']\n",
    "    dataframe2['pa_et'] = pas['pa_et']"
   ]
  },
  {
   "cell_type": "code",
   "execution_count": 11,
   "metadata": {},
   "outputs": [],
   "source": [
    "# ............................ ANONYMIZE AND Stroring .....................................................\n",
    "# ..........................................................................................\n",
    "# .........................................................................................."
   ]
  },
  {
   "cell_type": "code",
   "execution_count": 12,
   "metadata": {},
   "outputs": [],
   "source": [
    "data = dataframe2.drop(columns=['testingTrials'])\n",
    "data.to_csv('data/Exp'+exp_version+'/dataframe_complete.csv', index=False)"
   ]
  },
  {
   "cell_type": "code",
   "execution_count": 13,
   "metadata": {},
   "outputs": [],
   "source": [
    "# ............................Filter.................................................\n",
    "# .............................................................................\n",
    "# ............................................................................."
   ]
  },
  {
   "cell_type": "code",
   "execution_count": 14,
   "metadata": {},
   "outputs": [
    {
     "name": "stdout",
     "output_type": "stream",
     "text": [
      "159\n"
     ]
    }
   ],
   "source": [
    "dataframe1['pa_mean'] = dataframe2['pa_mean']\n",
    "df_valid_all = dataframe1[dataframe1.status != 6]\n",
    "df_valid_all.reset_index(inplace = True, drop=True)\n",
    "print(len(df_valid_all))"
   ]
  },
  {
   "cell_type": "code",
   "execution_count": 15,
   "metadata": {},
   "outputs": [],
   "source": [
    "# ............................BONUS.................................................\n",
    "# ..........................................................................................\n",
    "# .........................................................................................."
   ]
  },
  {
   "cell_type": "code",
   "execution_count": 16,
   "metadata": {},
   "outputs": [],
   "source": [
    "#df_valid_all"
   ]
  },
  {
   "cell_type": "code",
   "execution_count": 17,
   "metadata": {},
   "outputs": [
    {
     "name": "stderr",
     "output_type": "stream",
     "text": [
      "/Applications/anaconda3/lib/python3.7/site-packages/ipykernel_launcher.py:8: SettingWithCopyWarning: \n",
      "A value is trying to be set on a copy of a slice from a DataFrame.\n",
      "Try using .loc[row_indexer,col_indexer] = value instead\n",
      "\n",
      "See the caveats in the documentation: http://pandas.pydata.org/pandas-docs/stable/user_guide/indexing.html#returning-a-view-versus-a-copy\n",
      "  \n"
     ]
    }
   ],
   "source": [
    "bon = []\n",
    "for index, row in df_valid_all.iterrows():\n",
    "    if row['condition'] == 0:\n",
    "        bon.append(row['pa_mean'] * 0.5)\n",
    "    else: \n",
    "        bon.append(max(0, min(0.5,np.sum(row['scores']) * 0.02) ))\n",
    "        \n",
    "df_valid_all['bonus'] = bon"
   ]
  },
  {
   "cell_type": "code",
   "execution_count": 18,
   "metadata": {},
   "outputs": [
    {
     "name": "stdout",
     "output_type": "stream",
     "text": [
      "0.30830345911949686\n",
      "0.0\n",
      "0.5\n"
     ]
    },
    {
     "data": {
      "text/plain": [
       "(array([19.,  7.,  6., 15., 15., 20., 11.,  3.,  2., 61.]),\n",
       " array([0.  , 0.05, 0.1 , 0.15, 0.2 , 0.25, 0.3 , 0.35, 0.4 , 0.45, 0.5 ]),\n",
       " <a list of 10 Patch objects>)"
      ]
     },
     "execution_count": 18,
     "metadata": {},
     "output_type": "execute_result"
    },
    {
     "data": {
      "image/png": "[encoded data removed]",
      "text/plain": [
       "<Figure size 432x288 with 1 Axes>"
      ]
     },
     "metadata": {
      "needs_background": "light"
     },
     "output_type": "display_data"
    }
   ],
   "source": [
    "# bonus stats:\n",
    "print(np.mean(df_valid_all['bonus']))\n",
    "print(np.min(df_valid_all['bonus']))\n",
    "print(np.max(df_valid_all['bonus']))\n",
    "plt.hist(df_valid_all.bonus)"
   ]
  },
  {
   "cell_type": "code",
   "execution_count": 19,
   "metadata": {},
   "outputs": [],
   "source": [
    "ecf.exportBonus(df_valid_all, total_bonus = False, exp_version= exp_version)"
   ]
  },
  {
   "cell_type": "code",
   "execution_count": 20,
   "metadata": {},
   "outputs": [
    {
     "data": {
      "text/plain": [
       "11.766037735849059"
      ]
     },
     "execution_count": 20,
     "metadata": {},
     "output_type": "execute_result"
    }
   ],
   "source": [
    "df_valid_all.totalTime.mean()"
   ]
  },
  {
   "cell_type": "code",
   "execution_count": null,
   "metadata": {},
   "outputs": [],
   "source": []
  }
 ],
 "metadata": {
  "kernelspec": {
   "display_name": "Python 3",
   "language": "python",
   "name": "python3"
  },
  "language_info": {
   "codemirror_mode": {
    "name": "ipython",
    "version": 3
   },
   "file_extension": ".py",
   "mimetype": "text/x-python",
   "name": "python",
   "nbconvert_exporter": "python",
   "pygments_lexer": "ipython3",
   "version": "3.7.4"
  }
 },
 "nbformat": 4,
 "nbformat_minor": 2
}
