{
 "cells": [
  {
   "cell_type": "code",
   "execution_count": 1,
   "metadata": {},
   "outputs": [],
   "source": [
    "import json\n",
    "import os\n",
    "import argparse\n",
    "import pickle\n",
    "import numpy as np\n",
    "import matplotlib.pyplot as plt\n",
    "import pandas as pd\n",
    "import copy\n",
    "from scipy import stats\n",
    "from datetime import datetime\n",
    "\n",
    "import read_dataclip_to_dataframe as rd\n",
    "from importlib import reload\n",
    "import statistics_util as st\n",
    "\n",
    "pd.set_option('display.max_rows', 181)\n",
    "pd.set_option('display.max_columns', 80)\n",
    "pd.set_option('display.max_colwidth', 60)"
   ]
  },
  {
   "cell_type": "markdown",
   "metadata": {},
   "source": [
    "# Import data"
   ]
  },
  {
   "cell_type": "code",
   "execution_count": 3,
   "metadata": {},
   "outputs": [],
   "source": [
    "# import data as csv\n",
    "exp_version = '1B'\n",
    "dataclip = pd.read_csv('../data/Exp' + exp_version +'/dataclip.csv')"
   ]
  },
  {
   "cell_type": "code",
   "execution_count": 7,
   "metadata": {},
   "outputs": [],
   "source": [
    "# create participant frame from raw csv file\n",
    "reload(rd)\n",
    "participants = rd.createDataframe(dataclip, rd.getParticipantInfoExp1A)\n",
    "participants = participants.sort_values(by=['condition', 'status'], ascending=True)\n",
    "participants.reset_index(inplace = True, drop=True)"
   ]
  },
  {
   "cell_type": "markdown",
   "metadata": {},
   "source": [
    "# Store participant frame"
   ]
  },
  {
   "cell_type": "code",
   "execution_count": 10,
   "metadata": {},
   "outputs": [],
   "source": [
    "data = participants.drop(columns=['WorkerId', 'hitId', 'assignmentId','datastring'])\n",
    "data.apply(lambda x: (json.dumps(a) for a in x) if x.name in ['RT_trials', 'MG_trials'] else x).to_csv('../data/Exp'+exp_version + '/participant_frame.csv', index_label='pid')\n"
   ]
  }
 ],
 "metadata": {
  "kernelspec": {
   "display_name": "Python 3",
   "language": "python",
   "name": "python3"
  },
  "language_info": {
   "codemirror_mode": {
    "name": "ipython",
    "version": 3
   },
   "file_extension": ".py",
   "mimetype": "text/x-python",
   "name": "python",
   "nbconvert_exporter": "python",
   "pygments_lexer": "ipython3",
   "version": "3.7.4"
  }
 },
 "nbformat": 4,
 "nbformat_minor": 2
}
