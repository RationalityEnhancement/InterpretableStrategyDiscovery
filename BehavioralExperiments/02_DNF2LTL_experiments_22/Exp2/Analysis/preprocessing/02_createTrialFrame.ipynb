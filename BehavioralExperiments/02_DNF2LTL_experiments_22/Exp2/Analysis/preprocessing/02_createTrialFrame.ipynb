{
 "cells": [
  {
   "cell_type": "code",
   "execution_count": 31,
   "metadata": {},
   "outputs": [],
   "source": [
    "import pandas as pd\n",
    "\n",
    "import read_trials_to_dataframe as rt\n",
    "from importlib import reload\n",
    "\n",
    "pd.set_option('display.max_rows', 181)\n",
    "pd.set_option('display.max_columns', 80)\n",
    "pd.set_option('display.max_colwidth', 60)"
   ]
  },
  {
   "cell_type": "markdown",
   "metadata": {},
   "source": [
    "# Import data"
   ]
  },
  {
   "cell_type": "code",
   "execution_count": 66,
   "metadata": {},
   "outputs": [],
   "source": [
    "# import data as csv\n",
    "participants = pd.read_csv('../data/participant_frame.csv')"
   ]
  },
  {
   "cell_type": "markdown",
   "metadata": {},
   "source": [
    "# Create trial frame"
   ]
  },
  {
   "cell_type": "code",
   "execution_count": 85,
   "metadata": {
    "scrolled": true
   },
   "outputs": [],
   "source": [
    "reload(rt)\n",
    "\n",
    "# One frame per task\n",
    "MG_frame = rt.createTrialframe(participants.MG_trials, participants.pid, rt.getMortageInfo, 'mortgage')\n",
    "RT_frame = rt.createTrialframe(participants.RT_trials, participants.pid, rt.getRoadtripInfo, 'roadtrip')"
   ]
  },
  {
   "cell_type": "code",
   "execution_count": 86,
   "metadata": {},
   "outputs": [],
   "source": [
    "# Append frames\n",
    "trial_frame = pd.concat([MG_frame, RT_frame], sort=False)"
   ]
  },
  {
   "cell_type": "code",
   "execution_count": 87,
   "metadata": {},
   "outputs": [],
   "source": [
    "# Merge with participant frame\n",
    "trial_frame = trial_frame.merge(participants, how='left', on='pid', left_index=True)"
   ]
  },
  {
   "cell_type": "markdown",
   "metadata": {},
   "source": [
    "# Store Frame"
   ]
  },
  {
   "cell_type": "code",
   "execution_count": 88,
   "metadata": {},
   "outputs": [],
   "source": [
    "data = trial_frame.drop(columns=['bonus', 'MG_bonus', 'RT_bonus','RT_trials', 'MG_trials'])\n",
    "data.to_csv('../data/trial_frame.csv', index=False)\n"
   ]
  },
  {
   "cell_type": "code",
   "execution_count": null,
   "metadata": {},
   "outputs": [],
   "source": []
  }
 ],
 "metadata": {
  "kernelspec": {
   "display_name": "Python 3",
   "language": "python",
   "name": "python3"
  },
  "language_info": {
   "codemirror_mode": {
    "name": "ipython",
    "version": 3
   },
   "file_extension": ".py",
   "mimetype": "text/x-python",
   "name": "python",
   "nbconvert_exporter": "python",
   "pygments_lexer": "ipython3",
   "version": "3.7.4"
  }
 },
 "nbformat": 4,
 "nbformat_minor": 2
}
